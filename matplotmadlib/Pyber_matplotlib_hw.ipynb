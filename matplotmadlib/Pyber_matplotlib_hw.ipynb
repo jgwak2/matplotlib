{
 "cells": [
  {
   "cell_type": "markdown",
   "metadata": {},
   "source": [
    "## Observable Trends\n",
    "#Most rides and drivers are in the Urban areas and the average fares are also significantly less in the urban cities.\n",
    "#The Rural areas do not have enough coverage for the rides and there is good scope for ride service provided the fares can be kept reasonable. \n",
    "#Suburban areas have higher average costs per ride and has more drivers than rural, but still much lesser than the urban cities. \n",
    "#There is a significant variation in average fares for Urban, Suburban and Rural cities. \n"
   ]
  },
  {
   "cell_type": "code",
   "execution_count": 59,
   "metadata": {},
   "outputs": [],
   "source": [
    "# Import relevant libraries\n",
    "#%matplotlib notebook\n",
    "import pandas as pd\n",
    "import numpy as np\n",
    "\n",
    "import matplotlib.pyplot as plt\n"
   ]
  },
  {
   "cell_type": "code",
   "execution_count": 60,
   "metadata": {},
   "outputs": [],
   "source": [
    "#Read the ride_data and city_data csv files into pandas dataframes. \n",
    "ride_df = pd.read_csv(\"raw_data/ride_data.csv\")\n",
    "city_df = pd.read_csv(\"raw_data/city_data.csv\")\n",
    "\n"
   ]
  },
  {
   "cell_type": "code",
   "execution_count": 61,
   "metadata": {},
   "outputs": [
    {
     "data": {
      "text/html": [
       "<div>\n",
       "<style scoped>\n",
       "    .dataframe tbody tr th:only-of-type {\n",
       "        vertical-align: middle;\n",
       "    }\n",
       "\n",
       "    .dataframe tbody tr th {\n",
       "        vertical-align: top;\n",
       "    }\n",
       "\n",
       "    .dataframe thead th {\n",
       "        text-align: right;\n",
       "    }\n",
       "</style>\n",
       "<table border=\"1\" class=\"dataframe\">\n",
       "  <thead>\n",
       "    <tr style=\"text-align: right;\">\n",
       "      <th></th>\n",
       "      <th>city</th>\n",
       "      <th>date</th>\n",
       "      <th>fare</th>\n",
       "      <th>ride_id</th>\n",
       "      <th>driver_count</th>\n",
       "      <th>type</th>\n",
       "    </tr>\n",
       "  </thead>\n",
       "  <tbody>\n",
       "    <tr>\n",
       "      <th>0</th>\n",
       "      <td>Lake Jonathanshire</td>\n",
       "      <td>2018-01-14 10:14:22</td>\n",
       "      <td>13.83</td>\n",
       "      <td>5739410935873</td>\n",
       "      <td>5</td>\n",
       "      <td>Urban</td>\n",
       "    </tr>\n",
       "    <tr>\n",
       "      <th>1</th>\n",
       "      <td>Lake Jonathanshire</td>\n",
       "      <td>2018-04-07 20:51:11</td>\n",
       "      <td>31.25</td>\n",
       "      <td>4441251834598</td>\n",
       "      <td>5</td>\n",
       "      <td>Urban</td>\n",
       "    </tr>\n",
       "    <tr>\n",
       "      <th>2</th>\n",
       "      <td>Lake Jonathanshire</td>\n",
       "      <td>2018-03-09 23:45:55</td>\n",
       "      <td>19.89</td>\n",
       "      <td>2389495660448</td>\n",
       "      <td>5</td>\n",
       "      <td>Urban</td>\n",
       "    </tr>\n",
       "    <tr>\n",
       "      <th>3</th>\n",
       "      <td>Lake Jonathanshire</td>\n",
       "      <td>2018-04-07 18:09:21</td>\n",
       "      <td>24.28</td>\n",
       "      <td>7796805191168</td>\n",
       "      <td>5</td>\n",
       "      <td>Urban</td>\n",
       "    </tr>\n",
       "    <tr>\n",
       "      <th>4</th>\n",
       "      <td>Lake Jonathanshire</td>\n",
       "      <td>2018-01-02 14:14:50</td>\n",
       "      <td>13.89</td>\n",
       "      <td>424254840012</td>\n",
       "      <td>5</td>\n",
       "      <td>Urban</td>\n",
       "    </tr>\n",
       "  </tbody>\n",
       "</table>\n",
       "</div>"
      ],
      "text/plain": [
       "                 city                 date   fare        ride_id  \\\n",
       "0  Lake Jonathanshire  2018-01-14 10:14:22  13.83  5739410935873   \n",
       "1  Lake Jonathanshire  2018-04-07 20:51:11  31.25  4441251834598   \n",
       "2  Lake Jonathanshire  2018-03-09 23:45:55  19.89  2389495660448   \n",
       "3  Lake Jonathanshire  2018-04-07 18:09:21  24.28  7796805191168   \n",
       "4  Lake Jonathanshire  2018-01-02 14:14:50  13.89   424254840012   \n",
       "\n",
       "   driver_count   type  \n",
       "0             5  Urban  \n",
       "1             5  Urban  \n",
       "2             5  Urban  \n",
       "3             5  Urban  \n",
       "4             5  Urban  "
      ]
     },
     "execution_count": 61,
     "metadata": {},
     "output_type": "execute_result"
    }
   ],
   "source": [
    "#Merge the two dataframes on city.\n",
    "ride_city_df = pd.merge(ride_df,city_df,on=\"city\")\n",
    "ride_city_df.head()\n"
   ]
  },
  {
   "cell_type": "code",
   "execution_count": 79,
   "metadata": {},
   "outputs": [],
   "source": [
    "#Split into 3 categories\n",
    "ride_city_urban = ride_city_df.loc[ride_city_df[\"type\"]==\"Urban\"]\n",
    "ride_city_suburban = ride_city_df.loc[ride_city_df[\"type\"]==\"Suburban\"]\n",
    "ride_city_rural = ride_city_df.loc[ride_city_df[\"type\"]==\"Rural\"]\n"
   ]
  },
  {
   "cell_type": "code",
   "execution_count": 80,
   "metadata": {},
   "outputs": [
    {
     "data": {
      "text/html": [
       "<div>\n",
       "<style scoped>\n",
       "    .dataframe tbody tr th:only-of-type {\n",
       "        vertical-align: middle;\n",
       "    }\n",
       "\n",
       "    .dataframe tbody tr th {\n",
       "        vertical-align: top;\n",
       "    }\n",
       "\n",
       "    .dataframe thead th {\n",
       "        text-align: right;\n",
       "    }\n",
       "</style>\n",
       "<table border=\"1\" class=\"dataframe\">\n",
       "  <thead>\n",
       "    <tr style=\"text-align: right;\">\n",
       "      <th></th>\n",
       "      <th>city</th>\n",
       "      <th>date</th>\n",
       "      <th>fare</th>\n",
       "      <th>ride_id</th>\n",
       "      <th>driver_count</th>\n",
       "      <th>type</th>\n",
       "    </tr>\n",
       "  </thead>\n",
       "  <tbody>\n",
       "    <tr>\n",
       "      <th>2250</th>\n",
       "      <td>Randallchester</td>\n",
       "      <td>2018-04-13 11:13:31</td>\n",
       "      <td>43.22</td>\n",
       "      <td>1076079536213</td>\n",
       "      <td>9</td>\n",
       "      <td>Rural</td>\n",
       "    </tr>\n",
       "    <tr>\n",
       "      <th>2251</th>\n",
       "      <td>Randallchester</td>\n",
       "      <td>2018-02-19 03:52:47</td>\n",
       "      <td>58.55</td>\n",
       "      <td>8004803682564</td>\n",
       "      <td>9</td>\n",
       "      <td>Rural</td>\n",
       "    </tr>\n",
       "    <tr>\n",
       "      <th>2252</th>\n",
       "      <td>Randallchester</td>\n",
       "      <td>2018-02-11 05:42:29</td>\n",
       "      <td>25.78</td>\n",
       "      <td>9010611749008</td>\n",
       "      <td>9</td>\n",
       "      <td>Rural</td>\n",
       "    </tr>\n",
       "    <tr>\n",
       "      <th>2253</th>\n",
       "      <td>Randallchester</td>\n",
       "      <td>2018-03-25 13:36:46</td>\n",
       "      <td>10.37</td>\n",
       "      <td>3216382725494</td>\n",
       "      <td>9</td>\n",
       "      <td>Rural</td>\n",
       "    </tr>\n",
       "    <tr>\n",
       "      <th>2254</th>\n",
       "      <td>Randallchester</td>\n",
       "      <td>2018-04-07 23:42:07</td>\n",
       "      <td>10.79</td>\n",
       "      <td>1615474447641</td>\n",
       "      <td>9</td>\n",
       "      <td>Rural</td>\n",
       "    </tr>\n",
       "  </tbody>\n",
       "</table>\n",
       "</div>"
      ],
      "text/plain": [
       "                city                 date   fare        ride_id  driver_count  \\\n",
       "2250  Randallchester  2018-04-13 11:13:31  43.22  1076079536213             9   \n",
       "2251  Randallchester  2018-02-19 03:52:47  58.55  8004803682564             9   \n",
       "2252  Randallchester  2018-02-11 05:42:29  25.78  9010611749008             9   \n",
       "2253  Randallchester  2018-03-25 13:36:46  10.37  3216382725494             9   \n",
       "2254  Randallchester  2018-04-07 23:42:07  10.79  1615474447641             9   \n",
       "\n",
       "       type  \n",
       "2250  Rural  \n",
       "2251  Rural  \n",
       "2252  Rural  \n",
       "2253  Rural  \n",
       "2254  Rural  "
      ]
     },
     "execution_count": 80,
     "metadata": {},
     "output_type": "execute_result"
    }
   ],
   "source": [
    "ride_city_urban.head()\n",
    "ride_city_suburban.head()\n",
    "ride_city_rural.head()"
   ]
  },
  {
   "cell_type": "code",
   "execution_count": null,
   "metadata": {},
   "outputs": [],
   "source": []
  },
  {
   "cell_type": "code",
   "execution_count": 81,
   "metadata": {},
   "outputs": [],
   "source": [
    "#Count of rides per type, city and average fare per type,city. \n",
    "\n",
    "ride_city_df_group_urban = ride_city_df_gp_urban.groupby(\"city\")\n",
    "ride_city_df_ridecnt_urban = ride_city_df_group_urban[\"ride_id\"].count()\n",
    "ride_city_df_avgfare_urban = ride_city_df_group_urban[\"fare\"].mean()\n",
    "\n",
    "#For suburban\n",
    "ride_city_df_group_suburban = ride_city_df_gp_suburban.groupby(\"city\")\n",
    "ride_city_df_ridecnt_suburban = ride_city_df_group_suburban[\"ride_id\"].count()\n",
    "ride_city_df_avgfare_suburban = ride_city_df_group_suburban[\"fare\"].mean()\n",
    "\n",
    "#for Rural\n",
    "ride_city_df_group_rural = ride_city_df_gp_rural.groupby(\"city\")\n",
    "ride_city_df_ridecnt_rural = ride_city_df_group_rural[\"ride_id\"].count()\n",
    "ride_city_df_avgfare_rural = ride_city_df_group_rural[\"fare\"].mean()"
   ]
  },
  {
   "cell_type": "code",
   "execution_count": 83,
   "metadata": {
    "scrolled": true
   },
   "outputs": [
    {
     "data": {
      "text/plain": [
       "city\n",
       "Bradshawfurt      40.064000\n",
       "Garzaport         24.123333\n",
       "Harringtonfort    33.470000\n",
       "Jessicaport       36.013333\n",
       "Lake Jamie        34.358333\n",
       "Name: fare, dtype: float64"
      ]
     },
     "execution_count": 83,
     "metadata": {},
     "output_type": "execute_result"
    }
   ],
   "source": [
    "ride_city_df_avgfare_urban.head()\n",
    "ride_city_df_avgfare_suburban.head()\n",
    "ride_city_df_avgfare_rural.head()\n",
    "\n"
   ]
  },
  {
   "cell_type": "code",
   "execution_count": 84,
   "metadata": {},
   "outputs": [],
   "source": [
    "#number of Drivers per type, city \n",
    "city_df_urban = city_df.loc[city_df[\"type\"]==\"Urban\"]\n",
    "city_df_suburban = city_df.loc[city_df[\"type\"]==\"Suburban\"]\n",
    "city_df_rural = city_df.loc[city_df[\"type\"]==\"Rural\"]\n",
    "\n"
   ]
  },
  {
   "cell_type": "code",
   "execution_count": 67,
   "metadata": {},
   "outputs": [
    {
     "data": {
      "text/html": [
       "<div>\n",
       "<style scoped>\n",
       "    .dataframe tbody tr th:only-of-type {\n",
       "        vertical-align: middle;\n",
       "    }\n",
       "\n",
       "    .dataframe tbody tr th {\n",
       "        vertical-align: top;\n",
       "    }\n",
       "\n",
       "    .dataframe thead th {\n",
       "        text-align: right;\n",
       "    }\n",
       "</style>\n",
       "<table border=\"1\" class=\"dataframe\">\n",
       "  <thead>\n",
       "    <tr style=\"text-align: right;\">\n",
       "      <th></th>\n",
       "      <th>city</th>\n",
       "      <th>driver_count</th>\n",
       "      <th>type</th>\n",
       "    </tr>\n",
       "  </thead>\n",
       "  <tbody>\n",
       "    <tr>\n",
       "      <th>102</th>\n",
       "      <td>South Jennifer</td>\n",
       "      <td>7</td>\n",
       "      <td>Rural</td>\n",
       "    </tr>\n",
       "    <tr>\n",
       "      <th>103</th>\n",
       "      <td>West Heather</td>\n",
       "      <td>4</td>\n",
       "      <td>Rural</td>\n",
       "    </tr>\n",
       "    <tr>\n",
       "      <th>104</th>\n",
       "      <td>Newtonview</td>\n",
       "      <td>1</td>\n",
       "      <td>Rural</td>\n",
       "    </tr>\n",
       "    <tr>\n",
       "      <th>105</th>\n",
       "      <td>North Holly</td>\n",
       "      <td>8</td>\n",
       "      <td>Rural</td>\n",
       "    </tr>\n",
       "    <tr>\n",
       "      <th>106</th>\n",
       "      <td>Michaelberg</td>\n",
       "      <td>6</td>\n",
       "      <td>Rural</td>\n",
       "    </tr>\n",
       "  </tbody>\n",
       "</table>\n",
       "</div>"
      ],
      "text/plain": [
       "               city  driver_count   type\n",
       "102  South Jennifer             7  Rural\n",
       "103    West Heather             4  Rural\n",
       "104      Newtonview             1  Rural\n",
       "105     North Holly             8  Rural\n",
       "106     Michaelberg             6  Rural"
      ]
     },
     "execution_count": 67,
     "metadata": {},
     "output_type": "execute_result"
    }
   ],
   "source": [
    "city_df_urban.head()\n",
    "city_df_suburban.head()\n",
    "city_df_rural.head()\n"
   ]
  },
  {
   "cell_type": "code",
   "execution_count": 85,
   "metadata": {},
   "outputs": [],
   "source": [
    "city_df_urban_groupbycity = city_df_urban.groupby(\"city\")\n",
    "city_df_urban_drivercnt = city_df_urban_groupbycity[\"driver_count\"].sum()\n",
    "\n",
    "#Driver count for suburban\n",
    "city_df_suburban_groupbycity = city_df_suburban.groupby(\"city\")\n",
    "city_df_suburban_drivercnt = city_df_suburban_groupbycity[\"driver_count\"].sum()\n",
    "\n",
    "#Driver count for rural\n",
    "city_df_rural_groupbycity = city_df_rural.groupby(\"city\")\n",
    "city_df_rural_drivercnt = city_df_rural_groupbycity[\"driver_count\"].sum()"
   ]
  },
  {
   "cell_type": "code",
   "execution_count": 86,
   "metadata": {},
   "outputs": [
    {
     "data": {
      "text/plain": [
       "city\n",
       "Bradshawfurt      7\n",
       "Garzaport         7\n",
       "Harringtonfort    4\n",
       "Jessicaport       1\n",
       "Lake Jamie        4\n",
       "Name: driver_count, dtype: int64"
      ]
     },
     "execution_count": 86,
     "metadata": {},
     "output_type": "execute_result"
    }
   ],
   "source": [
    "city_df_urban_drivercnt.head()\n",
    "city_df_suburban_drivercnt.head()\n",
    "city_df_rural_drivercnt.head()"
   ]
  },
  {
   "cell_type": "code",
   "execution_count": 92,
   "metadata": {},
   "outputs": [
    {
     "data": {
      "image/png": "[encoded data removed]",
      "text/plain": [
       "<Figure size 576x576 with 1 Axes>"
      ]
     },
     "metadata": {
      "needs_background": "light"
     },
     "output_type": "display_data"
    }
   ],
   "source": [
    "#plot the values as a bubble chart.\n",
    "plt.figure(figsize=(8,8))\n",
    "\n",
    "#plot values for urban\n",
    "plt.scatter(ride_city_df_ridecnt_urban,ride_city_df_avgfare_urban,s=city_df_urban_drivercnt,alpha=0.7,\n",
    "            marker='o',facecolors=[\"Lightcoral\"],edgecolors=[\"Red\"],label=\"Urban\")\n",
    "\n",
    "#Plot values for suburban.\n",
    "plt.scatter(ride_city_df_ridecnt_suburban,ride_city_df_avgfare_suburban,s=city_df_suburban_drivercnt,\n",
    "            alpha=0.7,marker='o',facecolors=[\"Lightskyblue\"],edgecolors=[\"blue\"],label=\"Suburban\")  \n",
    "\n",
    "#Plot values for rural.\n",
    "plt.scatter(ride_city_df_ridecnt_rural,ride_city_df_avgfare_rural,s=city_df_rural_drivercnt,\n",
    "            alpha=0.7,marker='o',facecolors=[\"Gold\"],edgecolors=[\"Black\"],label=\"Rural\") \n",
    "                      \n",
    "\n",
    "plt.xlim(0,40)\n",
    "plt.ylim(20,45)\n",
    "\n",
    "\n",
    "plt.title(\"Pyber ride sharing data(2016)\")\n",
    "plt.xlabel(\"Total number of rides(per city)\")\n",
    "plt.ylabel(\"Average fare (dollars)\")\n",
    "plt.legend(loc='upper right')\n",
    "plt.grid()\n",
    "\n",
    "plt.text(25, 41, \"Note:\", fontsize=14)\n",
    "plt.text(25, 40, \"Circle size indicates driver\", fontsize=14)\n",
    "plt.text(25, 39, \"count per city.\", fontsize=14)\n",
    "\n",
    "\n",
    "plt.show()\n"
   ]
  },
  {
   "cell_type": "code",
   "execution_count": 105,
   "metadata": {},
   "outputs": [
    {
     "data": {
      "text/plain": [
       "type\n",
       "Rural        4327.93\n",
       "Suburban    19356.33\n",
       "Urban       39854.38\n",
       "Name: fare, dtype: float64"
      ]
     },
     "execution_count": 105,
     "metadata": {},
     "output_type": "execute_result"
    }
   ],
   "source": [
    "#% of total fares by city type\n",
    "ride_city_df2 = ride_city_df\n",
    "ride_city_df2_totalsbytype = ride_city_df2.groupby(\"type\")[\"fare\"].sum()\n",
    "ride_city_df2_totalsbytype\n"
   ]
  },
  {
   "cell_type": "code",
   "execution_count": 104,
   "metadata": {},
   "outputs": [
    {
     "data": {
      "image/png": "[encoded data removed]",
      "text/plain": [
       "<Figure size 432x288 with 1 Axes>"
      ]
     },
     "metadata": {},
     "output_type": "display_data"
    }
   ],
   "source": [
    "# Total fares by city type.\n",
    "explode = (0, 0, 0.1)\n",
    "labels=(\"Rural\",\"Suburban\",\"Urban\")\n",
    "colors=(\"Gold\",\"Lightskyblue\",\"Coral\")\n",
    "\n",
    "plt.pie(ride_city_df2_totalsbytype, explode=explode, labels=labels, colors=colors,\n",
    "        autopct=\"%1.2f%%\", shadow=True, startangle=140)\n",
    "\n",
    "plt.title(\"% Total Fares by City type\")\n",
    "\n",
    "plt.axis(\"auto\")\n",
    "\n",
    "plt.show()\n"
   ]
  },
  {
   "cell_type": "code",
   "execution_count": 95,
   "metadata": {},
   "outputs": [
    {
     "data": {
      "text/plain": [
       "type\n",
       "Rural        125\n",
       "Suburban     625\n",
       "Urban       1625\n",
       "Name: ride_id, dtype: int64"
      ]
     },
     "execution_count": 95,
     "metadata": {},
     "output_type": "execute_result"
    }
   ],
   "source": [
    "# Total rides by city type.\n",
    "ride_city_df3 = ride_city_df\n",
    "ride_city_df2_totalridesbytype = ride_city_df2.groupby(\"type\")[\"ride_id\"].count()\n",
    "ride_city_df2_totalridesbytype"
   ]
  },
  {
   "cell_type": "code",
   "execution_count": 107,
   "metadata": {},
   "outputs": [
    {
     "data": {
      "image/png": "[encoded data removed]",
      "text/plain": [
       "<Figure size 432x288 with 1 Axes>"
      ]
     },
     "metadata": {},
     "output_type": "display_data"
    }
   ],
   "source": [
    "# % Total rides by city type.\n",
    "\n",
    "explode = (0, 0, 0.1)\n",
    "labels=(\"Rural\",\"Suburban\",\"Urban\")\n",
    "colors=(\"Gold\",\"Lightskyblue\",\"Coral\")\n",
    "\n",
    "plt.pie(ride_city_df2_totalridesbytype, explode=explode, labels=labels, colors=colors,\n",
    "        autopct=\"%1.2f%%\", shadow=True, startangle=140)\n",
    "\n",
    "plt.title(\"% Total Rides by City type\")\n",
    "plt.tight_layout()\n",
    "plt.axis(\"auto\")\n",
    "\n",
    "plt.show()"
   ]
  },
  {
   "cell_type": "code",
   "execution_count": 99,
   "metadata": {},
   "outputs": [
    {
     "data": {
      "text/plain": [
       "type\n",
       "Rural         78\n",
       "Suburban     490\n",
       "Urban       2405\n",
       "Name: driver_count, dtype: int64"
      ]
     },
     "execution_count": 99,
     "metadata": {},
     "output_type": "execute_result"
    }
   ],
   "source": [
    "# Drivers rides by city type.\n",
    "city_df2 = city_df\n",
    "city_df2_drivercntbytype = city_df2.groupby(\"type\")[\"driver_count\"].sum()\n",
    "city_df2_drivercntbytype "
   ]
  },
  {
   "cell_type": "code",
   "execution_count": 102,
   "metadata": {},
   "outputs": [
    {
     "data": {
      "image/png": "[encoded data removed]",
      "text/plain": [
       "<Figure size 432x288 with 1 Axes>"
      ]
     },
     "metadata": {},
     "output_type": "display_data"
    }
   ],
   "source": [
    "# % Total rides by city type.\n",
    "\n",
    "explode = (0, 0, 0.1)\n",
    "labels=(\"Rural\",\"Suburban\",\"Urban\")\n",
    "colors=(\"Gold\",\"Lightskyblue\",\"Coral\")\n",
    "\n",
    "plt.pie(city_df2_drivercntbytype, explode=explode, labels=labels, colors=colors,\n",
    "        autopct=\"%1.2f%%\", shadow=True, startangle=140)\n",
    "\n",
    "plt.title(\"% Total Drivers by city type\")\n",
    "plt.tight_layout()\n",
    "\n",
    "plt.axis(\"auto\")\n",
    "\n",
    "\n",
    "plt.show()"
   ]
  },
  {
   "cell_type": "code",
   "execution_count": null,
   "metadata": {},
   "outputs": [],
   "source": [
    "# # # # # Observations:\n",
    "# # # # #   1. The vast majority of drivers by city type is urban 80%, whereas only 2.6% are rural drivers.\n",
    "# # # #       This also means that there is nearly double the amount of rides needed in rural than there are drivers.\n",
    "# # #       2. There is a greater percentage of urban drivers than the percentage of urban rides.\n",
    "# # #         Like rural, suburban rides exceed the percentage of suburban drivers.\n",
    "# # #         Meaning roughly 12% of urban drivers are driving to rural or suburban areas.\n",
    "# # #         Possible this may contribute to higher suburban and rural ride fees.\n",
    "# #         3. Percentage of suburban and rural fares (31%) are higher than percentage (37%) of rides to rural and suburban areas.\n",
    "#             Rural and suburban riders are paying roughly 6% more than their urban rider counterparts."
   ]
  }
 ],
 "metadata": {
  "kernelspec": {
   "display_name": "Python 3",
   "language": "python",
   "name": "python3"
  },
  "language_info": {
   "codemirror_mode": {
    "name": "ipython",
    "version": 3
   },
   "file_extension": ".py",
   "mimetype": "text/x-python",
   "name": "python",
   "nbconvert_exporter": "python",
   "pygments_lexer": "ipython3",
   "version": "3.7.1"
  }
 },
 "nbformat": 4,
 "nbformat_minor": 2
}
